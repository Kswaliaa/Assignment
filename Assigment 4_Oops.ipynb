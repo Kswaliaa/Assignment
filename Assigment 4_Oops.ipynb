{
  "nbformat": 4,
  "nbformat_minor": 0,
  "metadata": {
    "colab": {
      "provenance": []
    },
    "kernelspec": {
      "name": "python3",
      "display_name": "Python 3"
    },
    "language_info": {
      "name": "python"
    }
  },
  "cells": [
    {
      "cell_type": "markdown",
      "source": [
        "Assigment of Oops:-"
      ],
      "metadata": {
        "id": "28_-EZmaSTkQ"
      }
    },
    {
      "cell_type": "markdown",
      "source": [
        "# Answer 1:-\n",
        "\n",
        "a) **Encapsulation**: Creating attributes and functions that operate on data within single object.\n",
        "**Examples Below**:-"
      ],
      "metadata": {
        "id": "V9xQ2GuYToIm"
      }
    },
    {
      "cell_type": "code",
      "source": [
        "class BankAccount:\n",
        "    def __init__(self, owner, balance=50):\n",
        "        self.owner = owner\n",
        "        self.__balance = balance\n",
        "\n",
        "    def deposit(self, amount):\n",
        "      if amount > 50:\n",
        "        self.__balance += amount\n",
        "\n",
        "    def withdraw(self, amount):\n",
        "      if 0 < amount <= self.__balance:\n",
        "        self.__balance -= amount\n",
        "\n",
        "    def get_balance(self):\n",
        "      return self.__balance\n",
        "\n",
        "account = BankAccount(\"karan\")\n",
        "account.deposit(1100)\n",
        "print(account.get_balance())\n",
        "\n"
      ],
      "metadata": {
        "colab": {
          "base_uri": "https://localhost:8080/"
        },
        "id": "dneSI3cDUP17",
        "outputId": "c755c35f-6937-49e8-92a6-17b27bc4c387"
      },
      "execution_count": 20,
      "outputs": [
        {
          "output_type": "stream",
          "name": "stdout",
          "text": [
            "1150\n"
          ]
        }
      ]
    },
    {
      "cell_type": "markdown",
      "source": [
        "b) **Abstraction**: Doing Complex reality by model classes based on essential properties and behaviors.\n",
        "\n",
        "**Example Below:-**"
      ],
      "metadata": {
        "id": "gv70nrihVw51"
      }
    },
    {
      "cell_type": "code",
      "source": [
        "from abc import ABC, abstractmethod\n",
        "\n",
        "class Shape(ABC):\n",
        "  @abstractmethod\n",
        "  def area(self):\n",
        "    pass\n",
        "\n",
        "class Circle(Shape):\n",
        "  def __init__(self, radius):\n",
        "    self.radius = radius\n",
        "\n",
        "    def area(self):\n",
        "      return 3.14 * self.radius * self.radius"
      ],
      "metadata": {
        "id": "TftFr3U6SQU2"
      },
      "execution_count": 21,
      "outputs": []
    },
    {
      "cell_type": "code",
      "source": [],
      "metadata": {
        "id": "A4PmdmwJSQWe"
      },
      "execution_count": 21,
      "outputs": []
    },
    {
      "cell_type": "markdown",
      "source": [
        "c) **Inheritance**: Method where new class inherits properties and behaviours from an existing class.\n",
        "\n",
        "\n",
        "**Example Below:**"
      ],
      "metadata": {
        "id": "KlpZpsISbIjc"
      }
    },
    {
      "cell_type": "code",
      "source": [
        "class Animal:\n",
        "  def speak(self):\n",
        "    return \"Animal speaks\"\n",
        "\n",
        "class Dog(Animal):\n",
        "  def speak(self):\n",
        "    return \"Bark\"\n",
        "\n",
        "class Cat(Animal):\n",
        "  def speak(self):\n",
        "    return \"Meow\"\n",
        "\n",
        "dog = Dog()\n",
        "cat = Cat()\n",
        "print(dog.speak())\n",
        "print(cat.speak())\n",
        "\n"
      ],
      "metadata": {
        "colab": {
          "base_uri": "https://localhost:8080/"
        },
        "id": "2NcxHrGQSQZi",
        "outputId": "86656c32-799d-4b98-e2d4-07c13ccdbb53"
      },
      "execution_count": 22,
      "outputs": [
        {
          "output_type": "stream",
          "name": "stdout",
          "text": [
            "Bark\n",
            "Meow\n"
          ]
        }
      ]
    },
    {
      "cell_type": "markdown",
      "source": [
        "d) **Polymorphism**:- Ability to present the interface for different underlying data types.It allows methods to varities thing based on the object\n",
        "\n",
        "**Example Below:**"
      ],
      "metadata": {
        "id": "c3UACyIAk3A-"
      }
    },
    {
      "cell_type": "code",
      "source": [
        "class Bird:\n",
        "  def speak(self):\n",
        "    return\"chirp\"\n",
        "\n",
        "class Fish:\n",
        "  def speak(self):\n",
        "    return \"Blub\"\n",
        "\n",
        "def animal_sound(animal):\n",
        "  print(animal.speak())\n",
        "\n",
        "bird = Bird()\n",
        "fish = Fish()\n",
        "animal_sound(bird)\n",
        "animal_sound(fish)\n"
      ],
      "metadata": {
        "colab": {
          "base_uri": "https://localhost:8080/"
        },
        "id": "43wUd-BMltRO",
        "outputId": "1664d8f4-7e0f-483b-d41f-3d5921d86c16"
      },
      "execution_count": 23,
      "outputs": [
        {
          "output_type": "stream",
          "name": "stdout",
          "text": [
            "chirp\n",
            "Blub\n"
          ]
        }
      ]
    },
    {
      "cell_type": "markdown",
      "source": [
        "e) **Composition**:- design principle where class is composed one or more objects from other class, allows for great resue.\n",
        "\n",
        "**Example Below:**"
      ],
      "metadata": {
        "id": "9srY_QF6mVPl"
      }
    },
    {
      "cell_type": "code",
      "source": [
        "class Engine:\n",
        "  def start(self):\n",
        "    return \"Engine starting\"\n",
        "\n",
        "class Car:\n",
        "  def __init__(self):\n",
        "    self.engine = Engine()\n",
        "\n",
        "  def start(self):\n",
        "    return self.engine.start() + \" and Car is ready\"\n",
        "\n",
        "car = Car()\n",
        "print(car.start())"
      ],
      "metadata": {
        "colab": {
          "base_uri": "https://localhost:8080/"
        },
        "id": "MaIyKLaVltWq",
        "outputId": "f119f1ea-fa29-474c-b87f-24591d54736f"
      },
      "execution_count": 24,
      "outputs": [
        {
          "output_type": "stream",
          "name": "stdout",
          "text": [
            "Engine starting and Car is ready\n"
          ]
        }
      ]
    },
    {
      "cell_type": "markdown",
      "source": [
        "**Ans 2:-**"
      ],
      "metadata": {
        "id": "0p3kbvkxn4fn"
      }
    },
    {
      "cell_type": "code",
      "source": [
        "class Car:\n",
        "  def __init__(self, make, model, year):\n",
        "    self.make = make\n",
        "    self.model = model\n",
        "    self.year = year\n",
        "\n",
        "    def display_info(self):\n",
        "      print(f\"Car Information: {self.year} {self.make} {self.model}\")\n"
      ],
      "metadata": {
        "id": "Zlk-B-Slltca"
      },
      "execution_count": 26,
      "outputs": []
    },
    {
      "cell_type": "code",
      "source": [],
      "metadata": {
        "id": "lDpVz3IylteO"
      },
      "execution_count": 26,
      "outputs": []
    },
    {
      "cell_type": "markdown",
      "source": [
        "**Ans 3:-**Difference Between class and instant method.\n",
        "\n",
        "a) **Instance Method** :- This is most common method.\n",
        "It is associated with instant of class, it can access and modify attributes.\n",
        "\n",
        "Example Below:-"
      ],
      "metadata": {
        "id": "ynnihSPEvdke"
      }
    },
    {
      "cell_type": "code",
      "source": [
        "class Dog:\n",
        "  def __init__(self, name):\n",
        "    self.name = name\n",
        "\n",
        "    def bark(self):\n",
        "      print(f\"{self.name} is speaking\")\n",
        "      dog = Dog(\"Buddy\")\n",
        "      dog.Bark\n"
      ],
      "metadata": {
        "id": "LXHBcEiwlthw"
      },
      "execution_count": 27,
      "outputs": []
    },
    {
      "cell_type": "code",
      "source": [],
      "metadata": {
        "id": "vMUaDcO8ltky"
      },
      "execution_count": 27,
      "outputs": []
    },
    {
      "cell_type": "markdown",
      "source": [
        "b) **Class Method**:- It is associated with the class itself. In this we cnt modify specific data,but class can be modified. To define this we need to use\n",
        "@clsmethod.\n",
        "\n",
        "Example Below:-"
      ],
      "metadata": {
        "id": "UL5l0QICzqgb"
      }
    },
    {
      "cell_type": "code",
      "source": [
        "class Dog:\n",
        "  species = \"Canis familiaris\"\n",
        "\n",
        "  @classmethod\n",
        "  def species_type(cls):\n",
        "    return f\"All dogs are {cls.species}.\"\n",
        "    print(Dog.species_type())"
      ],
      "metadata": {
        "id": "CUFQg1890fQn"
      },
      "execution_count": 28,
      "outputs": []
    },
    {
      "cell_type": "code",
      "source": [],
      "metadata": {
        "id": "PuQ5uZam0fSp"
      },
      "execution_count": 28,
      "outputs": []
    },
    {
      "cell_type": "markdown",
      "source": [
        "**Ans 4:-**Python doesn't support traditional method of overloading .\n",
        "We can achiever methods by different ways like\n",
        "a): Deafult aruguments\n",
        "b): *args\n",
        "c): difference between different arugment combinations.\n",
        "\n",
        "**Example Below:**"
      ],
      "metadata": {
        "id": "7A8Ag-Bb2MMP"
      }
    },
    {
      "cell_type": "code",
      "source": [
        "class Math:\n",
        "  def add(self, *args):\n",
        "    return sum(args)\n",
        "    Math = Math()\n",
        "    print(Math.add(1, 2, 3, 4))"
      ],
      "metadata": {
        "id": "SrBd5wNI0fVy"
      },
      "execution_count": 29,
      "outputs": []
    },
    {
      "cell_type": "code",
      "source": [
        "print(Math.add(2, 3, 4, 5))"
      ],
      "metadata": {
        "colab": {
          "base_uri": "https://localhost:8080/"
        },
        "id": "59M6rqhW0fXs",
        "outputId": "da37742a-c4b6-4c0a-d222-4b154b1ec73a"
      },
      "execution_count": 30,
      "outputs": [
        {
          "output_type": "stream",
          "name": "stdout",
          "text": [
            "12\n"
          ]
        }
      ]
    },
    {
      "cell_type": "code",
      "source": [],
      "metadata": {
        "id": "ldvB3WJu0fav"
      },
      "execution_count": 30,
      "outputs": []
    },
    {
      "cell_type": "markdown",
      "source": [
        "**Ans 5**:- Three types of access modifier in Python are:\n",
        "\n",
        "a) Public: No prefix from anywhere it can access\n",
        "\n",
        "b) Protected: Denoted by single underscore**(_)**\n",
        "\n",
        "c) Private: Denoted by double underscore**(__)**\n",
        "\n",
        "**Example Below of each:-**"
      ],
      "metadata": {
        "id": "G5pdXRvs4JX0"
      }
    },
    {
      "cell_type": "code",
      "source": [
        "#Public:-"
      ],
      "metadata": {
        "id": "HWYGNj9o0fdf"
      },
      "execution_count": 31,
      "outputs": []
    },
    {
      "cell_type": "code",
      "source": [
        "class MyClass:\n",
        "  def __init__(self):\n",
        "    self.public_var = \"I am karan\"\n",
        "\n",
        "  def public_method(self):\n",
        "    return \"This is public method\"\n",
        "\n",
        "obj = MyClass()\n",
        "print(obj.public_var)\n",
        "print(obj.public_method())\n"
      ],
      "metadata": {
        "colab": {
          "base_uri": "https://localhost:8080/"
        },
        "id": "5S8DsBMS0ffr",
        "outputId": "6454ebf9-df1d-4bad-bf41-df6262b4a0db"
      },
      "execution_count": 32,
      "outputs": [
        {
          "output_type": "stream",
          "name": "stdout",
          "text": [
            "I am karan\n",
            "This is public method\n"
          ]
        }
      ]
    },
    {
      "cell_type": "code",
      "source": [
        "#Protected:-"
      ],
      "metadata": {
        "id": "fN-MKbkq0fhQ"
      },
      "execution_count": 33,
      "outputs": []
    },
    {
      "cell_type": "code",
      "source": [
        "class MyClass:\n",
        "  def __init__(self):\n",
        "    self._protected_var = \"I am karan\"\n",
        "\n",
        "    def _protected_var(self):\n",
        "      return \"This is protectted methof\"\n",
        "\n",
        "obj = MyClass()\n",
        "print(obj._protected_var)"
      ],
      "metadata": {
        "colab": {
          "base_uri": "https://localhost:8080/"
        },
        "id": "zmwq0GaD0flH",
        "outputId": "276a1792-e59b-4e6b-d95d-ae4cb5f2e4f9"
      },
      "execution_count": 34,
      "outputs": [
        {
          "output_type": "stream",
          "name": "stdout",
          "text": [
            "I am karan\n"
          ]
        }
      ]
    },
    {
      "cell_type": "code",
      "source": [
        "#Private"
      ],
      "metadata": {
        "id": "kOM6umSh64tG"
      },
      "execution_count": 35,
      "outputs": []
    },
    {
      "cell_type": "code",
      "source": [
        "class MyClass:\n",
        "  def __init__(self):\n",
        "    self.__private_var = \"I am karan\"\n",
        "\n",
        "    def __private_var(self):\n",
        "      return \"This is private method\"\n",
        "      obj = MyClass()\n",
        "      print(obj._MyClass__private_var)"
      ],
      "metadata": {
        "id": "LgxiV__Q7TIJ"
      },
      "execution_count": 36,
      "outputs": []
    },
    {
      "cell_type": "markdown",
      "source": [
        "**Ans 6:** Five Types of inheritance in Python"
      ],
      "metadata": {
        "id": "8epNi0uG8a5Q"
      }
    },
    {
      "cell_type": "markdown",
      "source": [
        "a) **Single Inheritance**:- Children class inherits from single parent class.\n",
        "\n",
        "b) **Hybrid Inheritance**:- Combination of 2 or more types of inheritance. Such as multiple and hierarchical.\n",
        "\n",
        "c) **Multilevel Inheritance**:- Children class inherit from parent class and next  \n",
        "  class inherits from child class, it forms chain.\n",
        "\n",
        "d) **Hierarchical**:- Multiple children inherit from same parentclass.\n",
        "\n",
        "e) **Multiple Inheritance**:- Children class inherit from more then one parent class\n",
        "\n",
        "**Example for Multiple Inheritance below:-**"
      ],
      "metadata": {
        "id": "IoW7ZeJiQ-xf"
      }
    },
    {
      "cell_type": "code",
      "source": [
        "class Animal:\n",
        "  def speak(self):\n",
        "    print(\"Animal speaks\")\n",
        "\n",
        "class Bird:\n",
        "  def fly(self):\n",
        "    print(\"Bird flies\")\n",
        "\n",
        "class Bat(Animal, Bird):\n",
        "  def sound(self):\n",
        "    print(\"Bat makes a sound\")\n",
        "\n",
        "b = Bat()\n",
        "b.speak()\n",
        "b.fly()\n",
        "b.sound()"
      ],
      "metadata": {
        "id": "J5HSoK4b7TPW",
        "colab": {
          "base_uri": "https://localhost:8080/"
        },
        "outputId": "8482c190-9f9c-4f10-fdc7-3df56b2511ca"
      },
      "execution_count": 37,
      "outputs": [
        {
          "output_type": "stream",
          "name": "stdout",
          "text": [
            "Animal speaks\n",
            "Bird flies\n",
            "Bat makes a sound\n"
          ]
        }
      ]
    },
    {
      "cell_type": "markdown",
      "source": [
        "**Ans 7:-**\n",
        "Method for Resolution Order MRO in Python:- It is order in which python looks for methods and attributes in hierachy of classes during inheritance.\n",
        "\n",
        "\n",
        "Retrieve MRO Programmatically has 2 ways:\n",
        "\n",
        "a) using the **__mro__**\n",
        "\n",
        "b) useint the **mro()**"
      ],
      "metadata": {
        "id": "Zeqo9a34U59n"
      }
    },
    {
      "cell_type": "code",
      "source": [
        "#__mro__\n",
        "\n",
        "class A:\n",
        "  pass\n",
        "\n",
        "class B:\n",
        "  pass\n",
        "\n",
        "class C(B):\n",
        "  pass\n",
        "\n",
        "print(C.__mro__)"
      ],
      "metadata": {
        "colab": {
          "base_uri": "https://localhost:8080/"
        },
        "id": "OlMuBE06U3rp",
        "outputId": "f75cd9b1-7218-4c16-dbf3-2ccd5366ee23"
      },
      "execution_count": 38,
      "outputs": [
        {
          "output_type": "stream",
          "name": "stdout",
          "text": [
            "(<class '__main__.C'>, <class '__main__.B'>, <class 'object'>)\n"
          ]
        }
      ]
    },
    {
      "cell_type": "code",
      "source": [
        "#mro()\n",
        "\n",
        "class A:\n",
        "  pass\n",
        "\n",
        "class B(A):\n",
        "  pass\n",
        "\n",
        "class C(B):\n",
        "  pass\n",
        "\n",
        "print(C.mro())"
      ],
      "metadata": {
        "id": "MjidIJEu7TUZ",
        "colab": {
          "base_uri": "https://localhost:8080/"
        },
        "outputId": "e7e61036-992b-4ce7-b0d5-de02cb10fa10"
      },
      "execution_count": 39,
      "outputs": [
        {
          "output_type": "stream",
          "name": "stdout",
          "text": [
            "[<class '__main__.C'>, <class '__main__.B'>, <class '__main__.A'>, <class 'object'>]\n"
          ]
        }
      ]
    },
    {
      "cell_type": "code",
      "source": [
        "#Mutiple Inheritance\n",
        "\n",
        "class X:\n",
        "  def who_am_i(self):\n",
        "    print(\"I am X\")\n",
        "\n",
        "class Y(X):\n",
        "  def who_am_i(self):\n",
        "    print(\"I am Y\")\n",
        "\n",
        "class Z(X):\n",
        "  def who_am_i(self):\n",
        "    print(\"I am Z\")\n",
        "\n",
        "class A(Y, Z):\n",
        "  pass\n",
        "\n",
        "a = A()\n",
        "a.who_am_i()\n",
        "print(A.mro())\n",
        "\n"
      ],
      "metadata": {
        "id": "89XtPfKK7TXw",
        "colab": {
          "base_uri": "https://localhost:8080/"
        },
        "outputId": "4d0d6f19-966b-4a3c-cdf4-8d76fe8f12af"
      },
      "execution_count": 40,
      "outputs": [
        {
          "output_type": "stream",
          "name": "stdout",
          "text": [
            "I am Y\n",
            "[<class '__main__.A'>, <class '__main__.Y'>, <class '__main__.Z'>, <class '__main__.X'>, <class 'object'>]\n"
          ]
        }
      ]
    },
    {
      "cell_type": "markdown",
      "source": [
        "**Ans 8:-** Abstract Base Class"
      ],
      "metadata": {
        "id": "qWY9K1WPbIud"
      }
    },
    {
      "cell_type": "code",
      "source": [
        "from abc import ABC, abstractmethod\n",
        "import math\n",
        "\n",
        "#abstarct base class\n",
        "class Shape(ABC):\n",
        "  @abstractmethod\n",
        "  def area(self):\n",
        "    pass\n",
        "\n",
        "#subclass Circle\n",
        "class Circle(Shape):\n",
        "  def __init__(self, radius):\n",
        "    self.radius = radius\n",
        "\n",
        "  def area(self):\n",
        "    return math.pi * self.radius ** 4\n",
        "\n",
        "# Subclass Rectangle\n",
        "class Rectangle(Shape):\n",
        "  def __init__(self, width, height):\n",
        "    self.width = width\n",
        "    self.heigh = height\n",
        "\n",
        "  def area(self):\n",
        "    return self.width * self.height\n",
        "\n",
        "# create instances and area method\n",
        "circle = Circle(5)\n",
        "print(f\"Circle Area:{circle.area():.2}\")"
      ],
      "metadata": {
        "id": "nZ1iDyJp7TZ1",
        "colab": {
          "base_uri": "https://localhost:8080/"
        },
        "outputId": "1562c4a7-e97e-41f5-fe88-0a47f4815dac"
      },
      "execution_count": 41,
      "outputs": [
        {
          "output_type": "stream",
          "name": "stdout",
          "text": [
            "Circle Area:2e+03\n"
          ]
        }
      ]
    },
    {
      "cell_type": "markdown",
      "source": [
        "**Ans 9**:-Create Function that can workwith different shape."
      ],
      "metadata": {
        "id": "a-p6onI6ed_Z"
      }
    },
    {
      "cell_type": "code",
      "source": [
        "from abc import ABC, abstractmethod\n",
        "import math\n",
        "\n",
        "#abstarct base class\n",
        "class Shape(ABC):\n",
        "  @abstractmethod\n",
        "  def area(self):\n",
        "    pass\n",
        "\n",
        "#subclass Circle\n",
        "class Circle(Shape):\n",
        "  def __init__(self, radius):\n",
        "    self.radius = radius\n",
        "\n",
        "  def area(self):\n",
        "    return math.pi * self.radius ** 4\n",
        "\n",
        "# Subclass Rectangle\n",
        "class Rectangle(Shape):\n",
        "  def __init__(self, width, height):\n",
        "    self.width = width\n",
        "    self.heigh = height\n",
        "\n",
        "  def area(self):\n",
        "    return self.width * self.height\n",
        "\n",
        "# Function Demonstracting Polymorphism\n",
        "def print_area(shape):\n",
        "  print(f\"The area of the {shape.__class__.__name__} is:{shape.area():.2f}\")\n",
        "\n",
        "# creating instance of circle and rectangle\n",
        "circle = Circle(3)\n",
        "print_area(circle)"
      ],
      "metadata": {
        "colab": {
          "base_uri": "https://localhost:8080/"
        },
        "outputId": "7d355c58-fa20-4c34-db53-b11b7f588f57",
        "id": "mCryNUqOfSoz"
      },
      "execution_count": 42,
      "outputs": [
        {
          "output_type": "stream",
          "name": "stdout",
          "text": [
            "The area of the Circle is:254.47\n"
          ]
        }
      ]
    },
    {
      "cell_type": "markdown",
      "source": [
        "**Ans 10:-**"
      ],
      "metadata": {
        "id": "qHUVDeJKg8ed"
      }
    },
    {
      "cell_type": "code",
      "source": [
        "class Bank:\n",
        "\n",
        "  def __init__(self, balance):\n",
        "    self._balance = balance\n",
        "\n",
        "    def deposit(self, amount):\n",
        "      if amount >0:\n",
        "        self.balance += amount\n",
        "\n",
        "        def withdraw(self, amount):\n",
        "          if 0 < amount <= self.balance:\n",
        "            self.balance -= amount\n",
        "\n",
        "            def get_balance(self):\n",
        "              return self.balance"
      ],
      "metadata": {
        "id": "GwlgMhS9fCz0"
      },
      "execution_count": 43,
      "outputs": []
    },
    {
      "cell_type": "code",
      "source": [
        "def get_balance(self):\n",
        "  return self.balance"
      ],
      "metadata": {
        "id": "aR6oVFK7fC3u"
      },
      "execution_count": 44,
      "outputs": []
    },
    {
      "cell_type": "markdown",
      "source": [
        "**Ans 11:-**\n",
        "\n",
        "a) **__str__**: It allows to customize how to object represt as a string\n",
        "\n",
        "b) **__add__**: It allows to define happens when we use the + opreator with instance of class."
      ],
      "metadata": {
        "id": "Ghe8uT9uIGd7"
      }
    },
    {
      "cell_type": "code",
      "source": [
        "class MyClass:\n",
        "  def __init__(self, value):\n",
        "    self.value = value\n",
        "\n",
        "    # Overriding the __str__method to cstomize object print\n",
        "    def __str__(self):\n",
        "      return f\"MyClass instance with value:{self.vale}\"\n",
        "\n",
        "    # Overriding the __add__ method to define how addition works\n",
        "    def __add__(self, other):\n",
        "      if isinstance(other, MyClass):\n",
        "        return MyClass(self.value + other.value)\n",
        "\n"
      ],
      "metadata": {
        "id": "uqp-xra4fC5g"
      },
      "execution_count": 45,
      "outputs": []
    },
    {
      "cell_type": "markdown",
      "source": [
        "Ans 12:- Decorator that measures and print the excution time."
      ],
      "metadata": {
        "id": "fCGxgHN2LtoC"
      }
    },
    {
      "cell_type": "code",
      "source": [
        "import time\n",
        "\n",
        "# Decorator to measure execution time\n",
        "def measure_time(func):\n",
        "  def wrapper(*args, **kwargs):\n",
        "    start_time = time.time()\n",
        "    result = fnc(*args, **kwargs)\n",
        "    end_time = time.time()\n",
        "    execution_time = end_time - start_time"
      ],
      "metadata": {
        "id": "b9gH2ibufC9h"
      },
      "execution_count": 46,
      "outputs": []
    },
    {
      "cell_type": "markdown",
      "source": [
        "**Ans 13**:- Diamond problem >> it occurs when class inherit from 2 or more class will lead to ambiguity in exceution of methods."
      ],
      "metadata": {
        "id": "gVk5LknoOhqC"
      }
    },
    {
      "cell_type": "code",
      "source": [
        "class A:\n",
        "  def greet(self):\n",
        "    print(\"Hello from A\")\n",
        "\n",
        "    class B(A):\n",
        "      def greet(self):\n",
        "        print(\"Hello from B\")\n",
        "\n",
        "        class C(A):\n",
        "          def greet(self):\n",
        "            print(\"Hello from C\")\n",
        "\n",
        "            class D(B, C):\n",
        "              pass\n",
        "\n",
        "              # Create instances and call greet method\n",
        "              a = A()\n",
        "              a.greet()\n",
        "\n",
        "              b = B()\n",
        "              b.greet()\n",
        "\n",
        "              c = C()\n",
        "              c.greet()\n",
        "\n",
        "              d = D()\n",
        "              d.greet()"
      ],
      "metadata": {
        "id": "YkRml2tIfC__"
      },
      "execution_count": 47,
      "outputs": []
    },
    {
      "cell_type": "markdown",
      "source": [
        "**Ans 14:-**"
      ],
      "metadata": {
        "id": "zZG9OAFJQvje"
      }
    },
    {
      "cell_type": "code",
      "source": [
        "class MyClass:\n",
        "  instance_cont = 0\n",
        "\n",
        "  def __init__(self):\n",
        "    MyClass.instance_count += 1\n",
        "\n",
        "    @classmethod\n",
        "    def get_instance_count(cls):\n",
        "      return f\"Number of instancee created: {cls.instance_count}\""
      ],
      "metadata": {
        "id": "D1O3dfjLfDDJ"
      },
      "execution_count": 48,
      "outputs": []
    },
    {
      "cell_type": "markdown",
      "source": [
        "**Ans 15:-**"
      ],
      "metadata": {
        "id": "bwdMwE77SDqN"
      }
    },
    {
      "cell_type": "code",
      "source": [
        "class YearChecker:\n",
        "  @staticmethod\n",
        "  def is_leap_year(year):\n",
        "    if (year % 4 == 0 and year % 100 !=0) or year % 400 == 0:\n",
        "      return True\n",
        "\n",
        "    return False"
      ],
      "metadata": {
        "id": "80MQakla7Tfm"
      },
      "execution_count": 49,
      "outputs": []
    },
    {
      "cell_type": "code",
      "source": [
        "print(YearChecker.is_leap_year(2024))"
      ],
      "metadata": {
        "colab": {
          "base_uri": "https://localhost:8080/"
        },
        "id": "eG5knrNyTV-c",
        "outputId": "0c6b8046-1d70-4445-80c4-3b2a229ca853"
      },
      "execution_count": 50,
      "outputs": [
        {
          "output_type": "stream",
          "name": "stdout",
          "text": [
            "True\n"
          ]
        }
      ]
    },
    {
      "cell_type": "code",
      "source": [
        "print(YearChecker.is_leap_year(2022))"
      ],
      "metadata": {
        "colab": {
          "base_uri": "https://localhost:8080/"
        },
        "id": "WrPy0l5XTdR-",
        "outputId": "26955aa8-f824-48ae-a941-a5b1706f771a"
      },
      "execution_count": 51,
      "outputs": [
        {
          "output_type": "stream",
          "name": "stdout",
          "text": [
            "False\n"
          ]
        }
      ]
    },
    {
      "cell_type": "code",
      "source": [],
      "metadata": {
        "id": "M6oWBIfaTmC7"
      },
      "execution_count": 51,
      "outputs": []
    }
  ]
}