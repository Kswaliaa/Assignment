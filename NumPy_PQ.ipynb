{
  "nbformat": 4,
  "nbformat_minor": 0,
  "metadata": {
    "colab": {
      "provenance": []
    },
    "kernelspec": {
      "name": "python3",
      "display_name": "Python 3"
    },
    "language_info": {
      "name": "python"
    }
  },
  "cells": [
    {
      "cell_type": "markdown",
      "source": [
        "# ***Practical Questions:***"
      ],
      "metadata": {
        "id": "UfnnFr0Z24qG"
      }
    },
    {
      "cell_type": "markdown",
      "source": [
        "###1. Create a 3x3 NumPy array with random integers between 1 and 100. Then, interchange its rows and columns."
      ],
      "metadata": {
        "id": "TZ6Ytvha3JIf"
      }
    },
    {
      "cell_type": "code",
      "source": [
        "import numpy as np\n",
        "\n",
        "array = np.random.randint(1, 101, size=(3, 3))\n",
        "\n",
        "# Interchange rows and columns (transpose)\n",
        "transposed_array = np.transpose(array)\n",
        "\n",
        "array, transposed_array\n"
      ],
      "metadata": {
        "colab": {
          "base_uri": "https://localhost:8080/"
        },
        "id": "Dunp_cft3LeG",
        "outputId": "161c928e-b1ba-4989-df1f-8e1950825d03"
      },
      "execution_count": 2,
      "outputs": [
        {
          "output_type": "execute_result",
          "data": {
            "text/plain": [
              "(array([[65, 34, 55],\n",
              "        [34, 31, 33],\n",
              "        [45, 89,  3]]),\n",
              " array([[65, 34, 45],\n",
              "        [34, 31, 89],\n",
              "        [55, 33,  3]]))"
            ]
          },
          "metadata": {},
          "execution_count": 2
        }
      ]
    },
    {
      "cell_type": "markdown",
      "source": [
        "###2. Generate a 1D NumPy array with 10 elements. Reshape it into a 2x5 array, then into a 5x2 array"
      ],
      "metadata": {
        "id": "zDOjDqoL3xK2"
      }
    },
    {
      "cell_type": "code",
      "source": [
        "import numpy as np\n",
        "\n",
        "array_1d = np.arange(10)\n",
        "\n",
        "# Reshape into a 2x5 array\n",
        "array_2x5 = array_1d.reshape(2, 5)\n",
        "\n",
        "# Reshape into a 5x2 array\n",
        "array_5x2 = array_1d.reshape(5, 2)\n",
        "\n",
        "array_1d, array_2x5, array_5x2\n"
      ],
      "metadata": {
        "colab": {
          "base_uri": "https://localhost:8080/"
        },
        "id": "864yWCj4302n",
        "outputId": "a19aaf1d-b1b5-41ff-9ce9-5b54c8079fc1"
      },
      "execution_count": 3,
      "outputs": [
        {
          "output_type": "execute_result",
          "data": {
            "text/plain": [
              "(array([0, 1, 2, 3, 4, 5, 6, 7, 8, 9]),\n",
              " array([[0, 1, 2, 3, 4],\n",
              "        [5, 6, 7, 8, 9]]),\n",
              " array([[0, 1],\n",
              "        [2, 3],\n",
              "        [4, 5],\n",
              "        [6, 7],\n",
              "        [8, 9]]))"
            ]
          },
          "metadata": {},
          "execution_count": 3
        }
      ]
    },
    {
      "cell_type": "markdown",
      "source": [
        "###3.  Create a 4x4 NumPy array with random float values. Add a border of zeros around it, resulting in a 6x6 array"
      ],
      "metadata": {
        "id": "S-zkuy_j4C73"
      }
    },
    {
      "cell_type": "code",
      "source": [
        "# Create a 4x4 NumPy array with random float values\n",
        "array_4x4 = np.random.rand(4, 4)\n",
        "\n",
        "# Add a border of zeros around the array, making it a 6x6 array\n",
        "array_with_border = np.pad(array_4x4, pad_width=1, mode='constant', constant_values=0)\n",
        "\n",
        "array_4x4, array_with_border\n"
      ],
      "metadata": {
        "colab": {
          "base_uri": "https://localhost:8080/"
        },
        "id": "Tz7qbsKC4JSx",
        "outputId": "09c05b65-0fa1-4ef3-d2d1-ae2a3d5b650f"
      },
      "execution_count": 4,
      "outputs": [
        {
          "output_type": "execute_result",
          "data": {
            "text/plain": [
              "(array([[0.4418223 , 0.80668937, 0.29765529, 0.32852885],\n",
              "        [0.53101453, 0.24367814, 0.86607411, 0.48507406],\n",
              "        [0.68489308, 0.08939538, 0.22218596, 0.11156916],\n",
              "        [0.74481832, 0.50594494, 0.73376355, 0.48585358]]),\n",
              " array([[0.        , 0.        , 0.        , 0.        , 0.        ,\n",
              "         0.        ],\n",
              "        [0.        , 0.4418223 , 0.80668937, 0.29765529, 0.32852885,\n",
              "         0.        ],\n",
              "        [0.        , 0.53101453, 0.24367814, 0.86607411, 0.48507406,\n",
              "         0.        ],\n",
              "        [0.        , 0.68489308, 0.08939538, 0.22218596, 0.11156916,\n",
              "         0.        ],\n",
              "        [0.        , 0.74481832, 0.50594494, 0.73376355, 0.48585358,\n",
              "         0.        ],\n",
              "        [0.        , 0.        , 0.        , 0.        , 0.        ,\n",
              "         0.        ]]))"
            ]
          },
          "metadata": {},
          "execution_count": 4
        }
      ]
    },
    {
      "cell_type": "markdown",
      "source": [
        "###4.  Using NumPy, create an array of integers from 10 to 60 with a step of 5."
      ],
      "metadata": {
        "id": "eUWMWHc_4mhC"
      }
    },
    {
      "cell_type": "code",
      "source": [
        "import numpy as np\n",
        "\n",
        "array_step = np.arange(10, 61, 5)\n",
        "\n",
        "array_step"
      ],
      "metadata": {
        "colab": {
          "base_uri": "https://localhost:8080/"
        },
        "id": "SKPh33wA4req",
        "outputId": "9866294f-ef25-40a4-8ec9-f742db4f7844"
      },
      "execution_count": 5,
      "outputs": [
        {
          "output_type": "execute_result",
          "data": {
            "text/plain": [
              "array([10, 15, 20, 25, 30, 35, 40, 45, 50, 55, 60])"
            ]
          },
          "metadata": {},
          "execution_count": 5
        }
      ]
    },
    {
      "cell_type": "markdown",
      "source": [
        "###5.  Create a NumPy array of strings ['python', 'numpy', 'pandas']. Apply different case transformations (uppercase, lowercase, title case, etc.) to each element."
      ],
      "metadata": {
        "id": "3PVsWigk48m3"
      }
    },
    {
      "cell_type": "code",
      "source": [
        "string_array = np.array(['python', 'numpy', 'pandas'])\n",
        "\n",
        "# Apply different case transformations\n",
        "upper_case = np.char.upper(string_array)\n",
        "lower_case = np.char.lower(string_array)\n",
        "title_case = np.char.title(string_array)\n",
        "capitalize_case = np.char.capitalize(string_array)\n",
        "\n",
        "upper_case, lower_case, title_case, capitalize_case"
      ],
      "metadata": {
        "colab": {
          "base_uri": "https://localhost:8080/"
        },
        "id": "d1qpfdtM5AJ2",
        "outputId": "f68c4659-58bb-47f2-bd27-2bb587cf963d"
      },
      "execution_count": 6,
      "outputs": [
        {
          "output_type": "execute_result",
          "data": {
            "text/plain": [
              "(array(['PYTHON', 'NUMPY', 'PANDAS'], dtype='<U6'),\n",
              " array(['python', 'numpy', 'pandas'], dtype='<U6'),\n",
              " array(['Python', 'Numpy', 'Pandas'], dtype='<U6'),\n",
              " array(['Python', 'Numpy', 'Pandas'], dtype='<U6'))"
            ]
          },
          "metadata": {},
          "execution_count": 6
        }
      ]
    },
    {
      "cell_type": "markdown",
      "source": [
        "###6. Generate a NumPy array of words. Insert a space between each character of every word in the array."
      ],
      "metadata": {
        "id": "Mc8u6O7Q5dTq"
      }
    },
    {
      "cell_type": "code",
      "source": [
        "words_array = np.array(['hello', 'world', 'numpy', 'python'])\n",
        "\n",
        "spaced_words = np.char.join(' ', words_array)\n",
        "\n",
        "spaced_words\n"
      ],
      "metadata": {
        "colab": {
          "base_uri": "https://localhost:8080/"
        },
        "id": "zWuqBdaU5f1J",
        "outputId": "3f5d0e5a-602e-42b7-90cf-f995bcbf9a83"
      },
      "execution_count": 7,
      "outputs": [
        {
          "output_type": "execute_result",
          "data": {
            "text/plain": [
              "array(['h e l l o', 'w o r l d', 'n u m p y', 'p y t h o n'], dtype='<U11')"
            ]
          },
          "metadata": {},
          "execution_count": 7
        }
      ]
    },
    {
      "cell_type": "markdown",
      "source": [
        "###7. Create two 2D NumPy arrays and perform element-wise addition, subtraction, multiplication, and division"
      ],
      "metadata": {
        "id": "To0tLnkI6Fie"
      }
    },
    {
      "cell_type": "code",
      "source": [
        "import numpy as np\n",
        "\n",
        "array1 = np.array([[1, 2, 3], [4, 5, 6]])\n",
        "array2 = np.array([[7, 8, 9], [10, 11, 12]])\n",
        "\n",
        "# Perform element-wise operations\n",
        "addition = array1 + array2\n",
        "subtraction = array1 - array2\n",
        "multiplication = array1 * array2\n",
        "division = array1 / array2\n",
        "\n",
        "addition, subtraction, multiplication, division"
      ],
      "metadata": {
        "colab": {
          "base_uri": "https://localhost:8080/"
        },
        "id": "8AjZcbFa6Hyu",
        "outputId": "89d23798-3b17-467f-c1c8-bbec4ba53e1f"
      },
      "execution_count": 8,
      "outputs": [
        {
          "output_type": "execute_result",
          "data": {
            "text/plain": [
              "(array([[ 8, 10, 12],\n",
              "        [14, 16, 18]]),\n",
              " array([[-6, -6, -6],\n",
              "        [-6, -6, -6]]),\n",
              " array([[ 7, 16, 27],\n",
              "        [40, 55, 72]]),\n",
              " array([[0.14285714, 0.25      , 0.33333333],\n",
              "        [0.4       , 0.45454545, 0.5       ]]))"
            ]
          },
          "metadata": {},
          "execution_count": 8
        }
      ]
    },
    {
      "cell_type": "markdown",
      "source": [
        "###8. Use NumPy to create a 5x5 identity matrix, then extract its diagonal elements"
      ],
      "metadata": {
        "id": "Fc0Prbrf62sQ"
      }
    },
    {
      "cell_type": "code",
      "source": [
        "identity_matrix = np.eye(5)\n",
        "\n",
        "diagonal_elements = np.diag(identity_matrix)\n",
        "\n",
        "identity_matrix, diagonal_elements\n"
      ],
      "metadata": {
        "colab": {
          "base_uri": "https://localhost:8080/"
        },
        "id": "OFsh5uwH66ZQ",
        "outputId": "950ea632-afa1-457a-ba46-544d5dd20717"
      },
      "execution_count": 9,
      "outputs": [
        {
          "output_type": "execute_result",
          "data": {
            "text/plain": [
              "(array([[1., 0., 0., 0., 0.],\n",
              "        [0., 1., 0., 0., 0.],\n",
              "        [0., 0., 1., 0., 0.],\n",
              "        [0., 0., 0., 1., 0.],\n",
              "        [0., 0., 0., 0., 1.]]),\n",
              " array([1., 1., 1., 1., 1.]))"
            ]
          },
          "metadata": {},
          "execution_count": 9
        }
      ]
    },
    {
      "cell_type": "markdown",
      "source": [
        "###9.  Generate a NumPy array of 100 random integers between 0 and 1000. Find and display all prime numbers in this array."
      ],
      "metadata": {
        "id": "WmyGOE1o7GJb"
      }
    },
    {
      "cell_type": "code",
      "source": [
        "from sympy import isprime\n",
        "\n",
        "random_integers = np.random.randint(0, 1000, 100)\n",
        "\n",
        "\n",
        "prime_numbers = [num for num in random_integers if isprime(num)]\n",
        "\n",
        "random_integers, prime_numbers"
      ],
      "metadata": {
        "colab": {
          "base_uri": "https://localhost:8080/"
        },
        "id": "8xOPuA7L7KKb",
        "outputId": "abcc09c8-d64e-4642-e760-049b3fa3aeb5"
      },
      "execution_count": 10,
      "outputs": [
        {
          "output_type": "execute_result",
          "data": {
            "text/plain": [
              "(array([680, 491, 343, 370, 595, 984, 583, 594,  50, 773, 511, 667, 435,\n",
              "        286, 855, 901,  33, 309, 907,   0, 795,  91, 819, 437, 860, 528,\n",
              "        990, 939, 973, 155, 647, 727, 989, 211, 802,  32, 921, 906, 745,\n",
              "        394, 331, 852, 190, 419, 211, 959, 338, 419, 658, 269, 499, 476,\n",
              "         75, 570, 529, 239, 760, 418, 375, 697, 846, 561, 922, 601, 553,\n",
              "        484, 887, 884, 116, 123, 798, 383, 767, 555, 398, 283, 447, 451,\n",
              "         53,  74, 193, 477, 333, 753, 606, 468, 679, 373, 155, 846, 611,\n",
              "         67, 600, 801, 452, 356, 707, 331, 249, 168]),\n",
              " [491,\n",
              "  773,\n",
              "  907,\n",
              "  647,\n",
              "  727,\n",
              "  211,\n",
              "  331,\n",
              "  419,\n",
              "  211,\n",
              "  419,\n",
              "  269,\n",
              "  499,\n",
              "  239,\n",
              "  601,\n",
              "  887,\n",
              "  383,\n",
              "  283,\n",
              "  53,\n",
              "  193,\n",
              "  373,\n",
              "  67,\n",
              "  331])"
            ]
          },
          "metadata": {},
          "execution_count": 10
        }
      ]
    },
    {
      "cell_type": "markdown",
      "source": [
        "###10. Create a NumPy array representing daily temperatures for a month. Calculate and display the weekly averages."
      ],
      "metadata": {
        "id": "2GFotaEO7i4f"
      }
    },
    {
      "cell_type": "code",
      "source": [
        "daily_temperatures = np.random.randint(15, 35, 30)\n",
        "\n",
        "weeks = daily_temperatures[:28].reshape(4, 7)\n",
        "\n",
        "weekly_averages = weeks.mean(axis=1)\n",
        "\n",
        "daily_temperatures, weekly_averages"
      ],
      "metadata": {
        "colab": {
          "base_uri": "https://localhost:8080/"
        },
        "id": "FSgpHkxw7lrk",
        "outputId": "280a56c8-859f-4957-824b-fc825f87238b"
      },
      "execution_count": 11,
      "outputs": [
        {
          "output_type": "execute_result",
          "data": {
            "text/plain": [
              "(array([25, 21, 22, 20, 16, 31, 18, 31, 17, 17, 33, 30, 28, 22, 26, 30, 24,\n",
              "        25, 27, 24, 15, 25, 24, 15, 24, 23, 31, 18, 22, 30]),\n",
              " array([21.85714286, 25.42857143, 24.42857143, 22.85714286]))"
            ]
          },
          "metadata": {},
          "execution_count": 11
        }
      ]
    },
    {
      "cell_type": "code",
      "source": [],
      "metadata": {
        "id": "64A_Nndii6qv"
      },
      "execution_count": 11,
      "outputs": []
    }
  ]
}