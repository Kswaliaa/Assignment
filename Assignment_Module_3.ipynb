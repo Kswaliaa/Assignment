{
  "nbformat": 4,
  "nbformat_minor": 0,
  "metadata": {
    "colab": {
      "provenance": []
    },
    "kernelspec": {
      "name": "python3",
      "display_name": "Python 3"
    },
    "language_info": {
      "name": "python"
    }
  },
  "cells": [
    {
      "cell_type": "markdown",
      "source": [
        "#1.\tDiscuss string slicing and provide examples."
      ],
      "metadata": {
        "id": "MuAcbyaW0g28"
      }
    },
    {
      "cell_type": "markdown",
      "source": [
        "####String slicing is a technique to retrieve a specified portion of string where each character in string has specific index as shown in the example\n",
        "####Positive Indices: Allow you to slice strings from the left to the right.\n",
        "####Negative Indices: Allow you to slice strings from the right to the left.\n",
        "####Step: Helps you select every nth character or reverse the string."
      ],
      "metadata": {
        "id": "N4r8-cmI0n_y"
      }
    },
    {
      "cell_type": "markdown",
      "source": [],
      "metadata": {
        "id": "aEJs7NtK2ETk"
      }
    },
    {
      "cell_type": "code",
      "execution_count": 2,
      "metadata": {
        "id": "JeElel0_0etQ"
      },
      "outputs": [],
      "source": [
        "text = \"Hello, World!\"\n"
      ]
    },
    {
      "cell_type": "code",
      "source": [
        "text[0:5] # using range"
      ],
      "metadata": {
        "colab": {
          "base_uri": "https://localhost:8080/",
          "height": 36
        },
        "id": "lgycfDSW1TC2",
        "outputId": "cded0899-416d-4135-c716-2acbddfa0b4d"
      },
      "execution_count": 7,
      "outputs": [
        {
          "output_type": "execute_result",
          "data": {
            "text/plain": [
              "'Hello'"
            ],
            "application/vnd.google.colaboratory.intrinsic+json": {
              "type": "string"
            }
          },
          "metadata": {},
          "execution_count": 7
        }
      ]
    },
    {
      "cell_type": "code",
      "source": [
        "text[7:]"
      ],
      "metadata": {
        "colab": {
          "base_uri": "https://localhost:8080/",
          "height": 36
        },
        "id": "mTmG55dF1rHU",
        "outputId": "0552b12d-0d2f-4a22-9d73-98774a8948cb"
      },
      "execution_count": 10,
      "outputs": [
        {
          "output_type": "execute_result",
          "data": {
            "text/plain": [
              "'World!'"
            ],
            "application/vnd.google.colaboratory.intrinsic+json": {
              "type": "string"
            }
          },
          "metadata": {},
          "execution_count": 10
        }
      ]
    },
    {
      "cell_type": "code",
      "source": [
        "text[::-1] #using step"
      ],
      "metadata": {
        "colab": {
          "base_uri": "https://localhost:8080/",
          "height": 36
        },
        "id": "XuNxV5Bv1zOo",
        "outputId": "a88c2c4c-7470-42f9-98af-e1dd942ed905"
      },
      "execution_count": 12,
      "outputs": [
        {
          "output_type": "execute_result",
          "data": {
            "text/plain": [
              "'!dlroW ,olleH'"
            ],
            "application/vnd.google.colaboratory.intrinsic+json": {
              "type": "string"
            }
          },
          "metadata": {},
          "execution_count": 12
        }
      ]
    },
    {
      "cell_type": "markdown",
      "source": [
        "#2.\tExplain the key features of lists in Python."
      ],
      "metadata": {
        "id": "FkoAT-8X2W7t"
      }
    },
    {
      "cell_type": "markdown",
      "source": [
        "####Lists are one of the most versatile and widely used data structures in Python. They allow you to store multiple items in a single variable. some key features of list are\n",
        "####it is ordered collection of elements making it easier to fetch an element from it using indexing & slicing,\n",
        "####lists are mutable which means the data can be modified as required,\n",
        "####it can also store hetrogeneous data types i.e Int, strings, tuples, float, etc\n",
        "####lists are dynamic sized in python which means you do not need to declare size upfront, lists are also memory efficient, iterable & have various built in functions"
      ],
      "metadata": {
        "id": "WO-nbSWT1RzH"
      }
    },
    {
      "cell_type": "markdown",
      "source": [
        "#3.\tDescribe how to access, modify, and delete elements in a list with examples."
      ],
      "metadata": {
        "id": "UIK_3Een4NVj"
      }
    },
    {
      "cell_type": "markdown",
      "source": [
        "#### To access elements in a list you can use indexing"
      ],
      "metadata": {
        "id": "dLSsRuZG_Hak"
      }
    },
    {
      "cell_type": "code",
      "source": [
        "fruits = [\"apple\", \"banana\", \"cherry\", \"date\"]\n",
        "print(fruits[0])\n",
        "print(fruits[2])"
      ],
      "metadata": {
        "colab": {
          "base_uri": "https://localhost:8080/"
        },
        "id": "IYoemx0A4IlE",
        "outputId": "2af3fcd8-4fd2-450e-9106-f19bae7c5054"
      },
      "execution_count": 13,
      "outputs": [
        {
          "output_type": "stream",
          "name": "stdout",
          "text": [
            "apple\n",
            "cherry\n"
          ]
        }
      ]
    },
    {
      "cell_type": "code",
      "source": [
        "fruits[1] = \"orange\" # To modify you can directly assign a new value to desired index"
      ],
      "metadata": {
        "id": "yEEDqz5w_SbE"
      },
      "execution_count": 14,
      "outputs": []
    },
    {
      "cell_type": "code",
      "source": [
        "# there are many ways to delete the elements in a list\n",
        "del fruits[1]\n",
        "print(fruits)\n",
        "fruits.remove(\"cherry\")  # Removes the first occurrence of 'cherry'\n",
        "print(fruits)\n",
        "fruits.pop()\n",
        "print (fruits)"
      ],
      "metadata": {
        "colab": {
          "base_uri": "https://localhost:8080/"
        },
        "id": "cqm2EypK_sH9",
        "outputId": "e376e547-16b8-4da1-dfab-3759f9b6da37"
      },
      "execution_count": 15,
      "outputs": [
        {
          "output_type": "stream",
          "name": "stdout",
          "text": [
            "['apple', 'cherry', 'date']\n",
            "['apple', 'date']\n",
            "['apple']\n"
          ]
        }
      ]
    },
    {
      "cell_type": "markdown",
      "source": [
        "#4.\tCompare and contrast tuples and lists with examples."
      ],
      "metadata": {
        "id": "7_Z4IJ0oARto"
      }
    },
    {
      "cell_type": "markdown",
      "source": [
        "Lists and tuples in Python are both used for storing collections, but they differ significantly in their features. Lists are defined using square brackets ([]), are mutable, and support a wide range of methods, making them ideal for collections that need frequent modification, though they are slower and less memory-efficient. Tuples, on the other hand, use parentheses (()), are immutable, and offer fewer methods, which contributes to their faster performance and lower memory usage; they are suitable for fixed collections and can be used as dictionary keys if all elements are hashable. Thus, the choice between them depends on the specific use case and need for mutability or immutability. Following are some examples of Lists & tuples"
      ],
      "metadata": {
        "id": "Pd-Jt8gxAiQd"
      }
    },
    {
      "cell_type": "code",
      "source": [
        "fruits_list = [\"apple\", \"banana\", \"cherry\"] # List\n",
        "print(fruits_list)"
      ],
      "metadata": {
        "colab": {
          "base_uri": "https://localhost:8080/"
        },
        "id": "gvVV2TpkAK1z",
        "outputId": "5526bb4b-70d7-42f6-bb97-2c96bdfcf7be"
      },
      "execution_count": 16,
      "outputs": [
        {
          "output_type": "stream",
          "name": "stdout",
          "text": [
            "['apple', 'banana', 'cherry']\n"
          ]
        }
      ]
    },
    {
      "cell_type": "code",
      "source": [
        "fruits_tuple = (\"apple\", \"banana\", \"cherry\") # Tuple\n",
        "print(fruits_tuple)"
      ],
      "metadata": {
        "colab": {
          "base_uri": "https://localhost:8080/"
        },
        "id": "AKgpZsSZBHmf",
        "outputId": "3c95be3e-985b-4181-c7e8-718d05d73a5d"
      },
      "execution_count": 17,
      "outputs": [
        {
          "output_type": "stream",
          "name": "stdout",
          "text": [
            "('apple', 'banana', 'cherry')\n"
          ]
        }
      ]
    },
    {
      "cell_type": "code",
      "source": [
        "fruits_list[1] = \"orange\"  # Modify an element\n",
        "print(fruits_list)\n",
        "\n",
        "fruits_list.append(\"date\")  # Add an element\n",
        "print(fruits_list)\n"
      ],
      "metadata": {
        "colab": {
          "base_uri": "https://localhost:8080/"
        },
        "id": "dBL5hMc6BPcW",
        "outputId": "66ec2241-993c-4e88-f257-6fe99131144a"
      },
      "execution_count": 18,
      "outputs": [
        {
          "output_type": "stream",
          "name": "stdout",
          "text": [
            "['apple', 'orange', 'cherry']\n",
            "['apple', 'orange', 'cherry', 'date']\n"
          ]
        }
      ]
    },
    {
      "cell_type": "code",
      "source": [
        "fruits_tuple[1] = \"orange\"  # Tuple are immutable and does not support item assignment hence it will throw error\n",
        "print(fruits_tuple)"
      ],
      "metadata": {
        "colab": {
          "base_uri": "https://localhost:8080/",
          "height": 158
        },
        "id": "AvTifwqfBUM_",
        "outputId": "dde852e7-3c83-4475-8261-233d7d682418"
      },
      "execution_count": 19,
      "outputs": [
        {
          "output_type": "error",
          "ename": "TypeError",
          "evalue": "'tuple' object does not support item assignment",
          "traceback": [
            "\u001b[0;31m---------------------------------------------------------------------------\u001b[0m",
            "\u001b[0;31mTypeError\u001b[0m                                 Traceback (most recent call last)",
            "\u001b[0;32m<ipython-input-19-0bf3a81e35a0>\u001b[0m in \u001b[0;36m<cell line: 1>\u001b[0;34m()\u001b[0m\n\u001b[0;32m----> 1\u001b[0;31m \u001b[0mfruits_tuple\u001b[0m\u001b[0;34m[\u001b[0m\u001b[0;36m1\u001b[0m\u001b[0;34m]\u001b[0m \u001b[0;34m=\u001b[0m \u001b[0;34m\"orange\"\u001b[0m  \u001b[0;31m# Tuple are immutable and does not support item assignment hence it will throw error\u001b[0m\u001b[0;34m\u001b[0m\u001b[0;34m\u001b[0m\u001b[0m\n\u001b[0m\u001b[1;32m      2\u001b[0m \u001b[0mprint\u001b[0m\u001b[0;34m(\u001b[0m\u001b[0mfruits_tuple\u001b[0m\u001b[0;34m)\u001b[0m\u001b[0;34m\u001b[0m\u001b[0;34m\u001b[0m\u001b[0m\n",
            "\u001b[0;31mTypeError\u001b[0m: 'tuple' object does not support item assignment"
          ]
        }
      ]
    },
    {
      "cell_type": "markdown",
      "source": [
        "#5.\tDescribe the key features of sets and provide examples of their use."
      ],
      "metadata": {
        "id": "L0bncDztBzZR"
      }
    },
    {
      "cell_type": "markdown",
      "source": [
        "####Sets in Python are unordered collections of unique elements. They are commonly used for storing elements where duplicates are not allowed, and order is not important. Some of it's key features are it has unordered elements therefore you cannot perform indexing, sets also ensure that all elements are unique. sets are also mutable but only stores immutable or hashable elements & it also support set operations like union, intersection etc.\n",
        "####Following are some example of its use"
      ],
      "metadata": {
        "id": "TkfXJ7KhCDnl"
      }
    },
    {
      "cell_type": "code",
      "source": [
        "numbers = [1, 2, 2, 3, 4, 4, 5] # to remove duplicates\n",
        "unique_numbers = list(set(numbers))\n",
        "print(unique_numbers)"
      ],
      "metadata": {
        "colab": {
          "base_uri": "https://localhost:8080/"
        },
        "id": "oVPrdyREBsQl",
        "outputId": "3185f434-d3f7-4070-f762-ebc36e485762"
      },
      "execution_count": 20,
      "outputs": [
        {
          "output_type": "stream",
          "name": "stdout",
          "text": [
            "[1, 2, 3, 4, 5]\n"
          ]
        }
      ]
    },
    {
      "cell_type": "code",
      "source": [
        "list1 = [1, 2, 3, 4] # To find common elements\n",
        "list2 = [3, 4, 5, 6]\n",
        "common_elements = set(list1).intersection(set(list2))\n",
        "print(common_elements)"
      ],
      "metadata": {
        "colab": {
          "base_uri": "https://localhost:8080/"
        },
        "id": "Lg1vqvrPDKHA",
        "outputId": "3814fc9e-bf9b-4a13-9afa-17771c01103a"
      },
      "execution_count": 21,
      "outputs": [
        {
          "output_type": "stream",
          "name": "stdout",
          "text": [
            "{3, 4}\n"
          ]
        }
      ]
    },
    {
      "cell_type": "markdown",
      "source": [
        "#6.\tDiscuss the use cases of tuples and sets in Python programming."
      ],
      "metadata": {
        "id": "ka2QLHCgDbOT"
      }
    },
    {
      "cell_type": "markdown",
      "source": [
        "####Tuples are immutable collections, meaning their elements cannot be modified after they are created. Tuples are often used to store data that should not change throughout the program, such as coordinates, dates, or configurations. This ensures the data remains consistent and is protected from accidental modification, they can be used as keys in dictionaries, whereas lists cannot. it is also iterable stores multiple values in single entity & it can also be used as element in Sets Whereas Sets are used to remove duplicate values, mathematical and find unique elements"
      ],
      "metadata": {
        "id": "DsMEnWzXDuq-"
      }
    },
    {
      "cell_type": "code",
      "source": [
        "student_scores = {(\"John\", \"Doe\"): 95, (\"Jane\", \"Smith\"): 88} # tuple used as dict. keys\n",
        "print(student_scores[(\"John\", \"Doe\")])"
      ],
      "metadata": {
        "colab": {
          "base_uri": "https://localhost:8080/"
        },
        "id": "cnQJ59aFDRjh",
        "outputId": "95fe437e-4f50-492b-cb65-73f0e9e7cb7a"
      },
      "execution_count": 23,
      "outputs": [
        {
          "output_type": "stream",
          "name": "stdout",
          "text": [
            "95\n"
          ]
        }
      ]
    },
    {
      "cell_type": "code",
      "source": [
        "months = (\"January\", \"February\", \"March\", \"April\") # tuple\n",
        "for month in months:\n",
        "    print(month)"
      ],
      "metadata": {
        "colab": {
          "base_uri": "https://localhost:8080/"
        },
        "id": "e9LgLC07FB2S",
        "outputId": "96bf2608-de92-496b-c092-ba07f384e8f6"
      },
      "execution_count": 24,
      "outputs": [
        {
          "output_type": "stream",
          "name": "stdout",
          "text": [
            "January\n",
            "February\n",
            "March\n",
            "April\n"
          ]
        }
      ]
    },
    {
      "cell_type": "code",
      "source": [
        "numbers = [1, 2, 2, 3, 4, 4, 5] #to find unique values\n",
        "unique_numbers = set(numbers)\n",
        "print(unique_numbers)"
      ],
      "metadata": {
        "colab": {
          "base_uri": "https://localhost:8080/"
        },
        "id": "ywtQl5cTFJTz",
        "outputId": "e150e05b-1ebc-4d9d-cc75-1e6ea19551f3"
      },
      "execution_count": 25,
      "outputs": [
        {
          "output_type": "stream",
          "name": "stdout",
          "text": [
            "{1, 2, 3, 4, 5}\n"
          ]
        }
      ]
    },
    {
      "cell_type": "code",
      "source": [
        "fruits = {\"apple\", \"banana\", \"cherry\"}\n",
        "more_fruits = {\"cherry\", \"date\", \"apple\"}\n",
        "unique_fruits = fruits.union(more_fruits) # for set opearations\n",
        "print(unique_fruits)"
      ],
      "metadata": {
        "colab": {
          "base_uri": "https://localhost:8080/"
        },
        "id": "MLpJ5BsGFTZl",
        "outputId": "65984fff-a499-4a80-de1a-a04a8bf58700"
      },
      "execution_count": 26,
      "outputs": [
        {
          "output_type": "stream",
          "name": "stdout",
          "text": [
            "{'date', 'apple', 'banana', 'cherry'}\n"
          ]
        }
      ]
    },
    {
      "cell_type": "markdown",
      "source": [
        "#7.\tDescribe how to add, modify, and delete items in a dictionary with examples."
      ],
      "metadata": {
        "id": "z0mzWJz-Fe76"
      }
    },
    {
      "cell_type": "markdown",
      "source": [
        "####Dictionaries are unordered collection of key value pair\n",
        "####Below are some ways to add item in dictionaries\n"
      ],
      "metadata": {
        "id": "XfhWA725V8Hr"
      }
    },
    {
      "cell_type": "code",
      "source": [
        "#add item in dictionary\n",
        "student = {\"name\": \"Alice\", \"age\": 20}\n",
        "student[\"major\"] = \"Computer Science\"\n",
        "print(student)"
      ],
      "metadata": {
        "colab": {
          "base_uri": "https://localhost:8080/"
        },
        "id": "71kMKR4oVtlx",
        "outputId": "257ea75e-babd-46e3-c741-073fbd44ec7d"
      },
      "execution_count": 31,
      "outputs": [
        {
          "output_type": "stream",
          "name": "stdout",
          "text": [
            "{'name': 'Alice', 'age': 20, 'major': 'Computer Science'}\n"
          ]
        }
      ]
    },
    {
      "cell_type": "code",
      "source": [
        "student = {\"name\": \"Alice\", \"age\": 20} #using update\n",
        "student.update({\"major\": \"Computer Science\", \"GPA\": 3.8})\n",
        "print(student)"
      ],
      "metadata": {
        "colab": {
          "base_uri": "https://localhost:8080/"
        },
        "id": "L8Gtp8FaWVQ-",
        "outputId": "1e55ca8f-c6e7-4ea5-dfa8-64d11b77e6a6"
      },
      "execution_count": 32,
      "outputs": [
        {
          "output_type": "stream",
          "name": "stdout",
          "text": [
            "{'name': 'Alice', 'age': 20, 'major': 'Computer Science', 'GPA': 3.8}\n"
          ]
        }
      ]
    },
    {
      "cell_type": "code",
      "source": [
        "#Modifying Items in a Dictionary\n",
        "student = {\"name\": \"Alice\", \"age\": 20, \"major\": \"Math\"}\n",
        "student[\"major\"] = \"Computer Science\"\n",
        "print(student)\n"
      ],
      "metadata": {
        "colab": {
          "base_uri": "https://localhost:8080/"
        },
        "id": "CMXvERT3WmUu",
        "outputId": "cf06228f-f618-462f-9a91-ecb198d94f0a"
      },
      "execution_count": 33,
      "outputs": [
        {
          "output_type": "stream",
          "name": "stdout",
          "text": [
            "{'name': 'Alice', 'age': 20, 'major': 'Computer Science'}\n"
          ]
        }
      ]
    },
    {
      "cell_type": "code",
      "source": [
        "#Deleting Items from a Dictionary\n",
        "student = {\"name\": \"Alice\", \"age\": 20, \"major\": \"Computer Science\"}\n",
        "del student[\"age\"]\n",
        "print(student)"
      ],
      "metadata": {
        "colab": {
          "base_uri": "https://localhost:8080/"
        },
        "id": "sJGLhg3UWyH8",
        "outputId": "a8d75048-fdc2-44fa-fbf6-3271356cbe39"
      },
      "execution_count": 34,
      "outputs": [
        {
          "output_type": "stream",
          "name": "stdout",
          "text": [
            "{'name': 'Alice', 'major': 'Computer Science'}\n"
          ]
        }
      ]
    },
    {
      "cell_type": "code",
      "source": [
        "student = {\"name\": \"Alice\", \"age\": 20, \"major\": \"Computer Science\"}\n",
        "age = student.pop(\"age\") # using pop function\n",
        "print(age)\n",
        "print(student)\n"
      ],
      "metadata": {
        "id": "wCGGRnn4XkYm"
      },
      "execution_count": null,
      "outputs": []
    },
    {
      "cell_type": "markdown",
      "source": [
        "#8.\tDiscuss the importance of dictionary keys being immutable and provide examples."
      ],
      "metadata": {
        "id": "Ok6KWH02Xc3Q"
      }
    },
    {
      "cell_type": "markdown",
      "source": [
        "####dictionary keys must be immutable, meaning they cannot be changed after they are created. This immutability is crucial for ensuring the reliability, consistency, and performance of dictionaries\n",
        "####Python dictionaries use a hash table internally to store key-value pairs. To quickly retrieve a value associated with a key, the key must have a fixed hash value, which is generated by a hashing function\n",
        "####Immutability ensures that keys remain stable throughout their lifespan in the dictionary. If keys were mutable, modifying a key after it has been added to the dictionary could lead to data loss or corruption, as the modified key might not match its original hash location, making the corresponding value inaccessible.If mutable objects like lists were allowed as dictionary keys, changing the contents of a key would invalidate its hash and make the dictionary incapable of finding or retrieving the associated value. For example:"
      ],
      "metadata": {
        "id": "XH_RZ00LXyi-"
      }
    },
    {
      "cell_type": "code",
      "source": [
        "# Using a list as a key will raise a TypeError\n",
        "try:\n",
        "    my_dict = {[1, 2, 3]: \"Invalid Key\"}\n",
        "except TypeError as e:\n",
        "    print(e)"
      ],
      "metadata": {
        "colab": {
          "base_uri": "https://localhost:8080/"
        },
        "id": "HaXgmbNiXGvf",
        "outputId": "be1a4bc9-ec9b-4ea4-e32e-f9f67f0a60eb"
      },
      "execution_count": 37,
      "outputs": [
        {
          "output_type": "stream",
          "name": "stdout",
          "text": [
            "unhashable type: 'list'\n"
          ]
        }
      ]
    },
    {
      "cell_type": "code",
      "source": [
        "# Hypothetical scenario if mutable keys were allowed\n",
        "mutable_key = [1, 2, 3]\n",
        "my_dict = {mutable_key: \"Valid\"}\n",
        "\n",
        "# If we modify the key, the dictionary would lose its reference\n",
        "mutable_key.append(4)\n",
        "# my_dict[mutable_key] would raise a KeyError or fail to find the value\n"
      ],
      "metadata": {
        "colab": {
          "base_uri": "https://localhost:8080/",
          "height": 210
        },
        "id": "jJKpUGc_YXZQ",
        "outputId": "576bf56e-6615-4069-e03f-5c971c89fc88"
      },
      "execution_count": 38,
      "outputs": [
        {
          "output_type": "error",
          "ename": "TypeError",
          "evalue": "unhashable type: 'list'",
          "traceback": [
            "\u001b[0;31m---------------------------------------------------------------------------\u001b[0m",
            "\u001b[0;31mTypeError\u001b[0m                                 Traceback (most recent call last)",
            "\u001b[0;32m<ipython-input-38-72c2a7f86d4d>\u001b[0m in \u001b[0;36m<cell line: 3>\u001b[0;34m()\u001b[0m\n\u001b[1;32m      1\u001b[0m \u001b[0;31m# Hypothetical scenario if mutable keys were allowed\u001b[0m\u001b[0;34m\u001b[0m\u001b[0;34m\u001b[0m\u001b[0m\n\u001b[1;32m      2\u001b[0m \u001b[0mmutable_key\u001b[0m \u001b[0;34m=\u001b[0m \u001b[0;34m[\u001b[0m\u001b[0;36m1\u001b[0m\u001b[0;34m,\u001b[0m \u001b[0;36m2\u001b[0m\u001b[0;34m,\u001b[0m \u001b[0;36m3\u001b[0m\u001b[0;34m]\u001b[0m\u001b[0;34m\u001b[0m\u001b[0;34m\u001b[0m\u001b[0m\n\u001b[0;32m----> 3\u001b[0;31m \u001b[0mmy_dict\u001b[0m \u001b[0;34m=\u001b[0m \u001b[0;34m{\u001b[0m\u001b[0mmutable_key\u001b[0m\u001b[0;34m:\u001b[0m \u001b[0;34m\"Valid\"\u001b[0m\u001b[0;34m}\u001b[0m\u001b[0;34m\u001b[0m\u001b[0;34m\u001b[0m\u001b[0m\n\u001b[0m\u001b[1;32m      4\u001b[0m \u001b[0;34m\u001b[0m\u001b[0m\n\u001b[1;32m      5\u001b[0m \u001b[0;31m# If we modify the key, the dictionary would lose its reference\u001b[0m\u001b[0;34m\u001b[0m\u001b[0;34m\u001b[0m\u001b[0m\n",
            "\u001b[0;31mTypeError\u001b[0m: unhashable type: 'list'"
          ]
        }
      ]
    },
    {
      "cell_type": "code",
      "source": [],
      "metadata": {
        "id": "bn_PBlVZYrzP"
      },
      "execution_count": null,
      "outputs": []
    }
  ]
}