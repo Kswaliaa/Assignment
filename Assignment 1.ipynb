{
  "nbformat": 4,
  "nbformat_minor": 0,
  "metadata": {
    "colab": {
      "provenance": []
    },
    "kernelspec": {
      "name": "python3",
      "display_name": "Python 3"
    },
    "language_info": {
      "name": "python"
    }
  },
  "cells": [
    {
      "cell_type": "markdown",
      "source": [
        "#1. Explain the key features of Python that make it a popular choice for programming."
      ],
      "metadata": {
        "id": "NONMtpjE5bOg"
      }
    },
    {
      "cell_type": "markdown",
      "source": [
        "\n",
        "### Python is popular open source programming languages as it is easier to read and and learn compared to languages like Java and C++. it has an easier syntax, python is also a general purpose language which means it can be used for various types of requirements like data analysis, automation, machine learning and web development\n",
        "### It is also platform independent i.e. it can be used on macOS, Linux and windows\n",
        "### It has various inbuilt standard libraries and frameworks and it is also easier to import third party libraries in python like tensorflow, numpy, pandas, flask, etc.\n",
        "### It also has large community that contributes to its development and regular updates\n",
        "### It is interpreted and dynamically typed language which makes it easier for debugging and declaring variables. It also has OOP support offering solution to complex problems\n",
        "### It has rich ecosystem for Data science and AI with libraries like tensorflow, pytorch, scipy and scickit-learn"
      ],
      "metadata": {
        "id": "7ASl6oR957kb"
      }
    },
    {
      "cell_type": "markdown",
      "source": [
        "# 2. Describe the role of predefined keywords in Python and provide examples of how they are used in a program."
      ],
      "metadata": {
        "id": "Pm1gBtwO-tsa"
      }
    },
    {
      "cell_type": "markdown",
      "source": [],
      "metadata": {
        "id": "6vAeptsvSuR-"
      }
    },
    {
      "cell_type": "markdown",
      "source": [
        "### Predifined keywords are reserved keywords in python as they have dedicated function so it is said not use these keywords for assigning a variable. view following cell for the examples of predefined keywords. Here True, False, For in, list, range are the examples"
      ],
      "metadata": {
        "id": "dj-3wC18Q9km"
      }
    },
    {
      "cell_type": "code",
      "execution_count": null,
      "metadata": {
        "id": "tNPYClWYN5PY"
      },
      "outputs": [],
      "source": [
        "True, False\n",
        "For x in list(range(0,100))"
      ]
    },
    {
      "cell_type": "markdown",
      "source": [
        "#3. Compare and contrast mutable and immutable objects in Python with examples."
      ],
      "metadata": {
        "id": "twndoKExSZwZ"
      }
    },
    {
      "cell_type": "markdown",
      "source": [],
      "metadata": {
        "id": "65OOYjXG5Z8P"
      }
    },
    {
      "cell_type": "markdown",
      "source": [
        "### Mutable objects in python can be referred as objects whose value can be changed after they are created like List, Dictionaryies and sets Whereas immutable objects can't be modified once created for example tuple, string, integer, float.\n",
        "###Below is one example of mutable and immutable objects"
      ],
      "metadata": {
        "id": "huNHNOymn6aV"
      }
    },
    {
      "cell_type": "code",
      "source": [
        "# Mutable abjects - Lists\n",
        "my_list = [1, 2, 3]\n",
        "my_list.append(4)  # Modifies the list by adding an element\n",
        "print(my_list) # you will find that 4 is added at last using append but this will not be true for tuple\n",
        "my_list[1]= 9\n",
        "print(my_list) #you will get a modified list. Reassignment is also possible in dictionaries and sets"
      ],
      "metadata": {
        "colab": {
          "base_uri": "https://localhost:8080/"
        },
        "id": "qLtbGvZhpF4e",
        "outputId": "f6dbc13c-9cd8-45e7-ce61-e820d3cc90f7"
      },
      "execution_count": null,
      "outputs": [
        {
          "output_type": "stream",
          "name": "stdout",
          "text": [
            "[1, 2, 3, 4]\n",
            "[1, 9, 3, 4]\n"
          ]
        }
      ]
    },
    {
      "cell_type": "code",
      "source": [
        "my_list = (1, 2, 3)\n",
        "my_list[1] = 4\n",
        "print(my_list) # as you can see in the error you cannot modify and element once it is created the same can be said for strings, integer and flot abjects"
      ],
      "metadata": {
        "colab": {
          "base_uri": "https://localhost:8080/",
          "height": 176
        },
        "id": "kpv4D7i7p-am",
        "outputId": "78cac95b-51f5-4c2e-a1e2-def695a38e74"
      },
      "execution_count": null,
      "outputs": [
        {
          "output_type": "error",
          "ename": "TypeError",
          "evalue": "'tuple' object does not support item assignment",
          "traceback": [
            "\u001b[0;31m---------------------------------------------------------------------------\u001b[0m",
            "\u001b[0;31mTypeError\u001b[0m                                 Traceback (most recent call last)",
            "\u001b[0;32m<ipython-input-7-46c21c5984de>\u001b[0m in \u001b[0;36m<cell line: 2>\u001b[0;34m()\u001b[0m\n\u001b[1;32m      1\u001b[0m \u001b[0mmy_list\u001b[0m \u001b[0;34m=\u001b[0m \u001b[0;34m(\u001b[0m\u001b[0;36m1\u001b[0m\u001b[0;34m,\u001b[0m \u001b[0;36m2\u001b[0m\u001b[0;34m,\u001b[0m \u001b[0;36m3\u001b[0m\u001b[0;34m)\u001b[0m\u001b[0;34m\u001b[0m\u001b[0;34m\u001b[0m\u001b[0m\n\u001b[0;32m----> 2\u001b[0;31m \u001b[0mmy_list\u001b[0m\u001b[0;34m[\u001b[0m\u001b[0;36m1\u001b[0m\u001b[0;34m]\u001b[0m \u001b[0;34m=\u001b[0m \u001b[0;36m4\u001b[0m\u001b[0;34m\u001b[0m\u001b[0;34m\u001b[0m\u001b[0m\n\u001b[0m\u001b[1;32m      3\u001b[0m \u001b[0mprint\u001b[0m\u001b[0;34m(\u001b[0m\u001b[0mmy_list\u001b[0m\u001b[0;34m)\u001b[0m \u001b[0;31m# as you can see you cannot modify and element once it is created the same can be said for strings, integer and flot abjects\u001b[0m\u001b[0;34m\u001b[0m\u001b[0;34m\u001b[0m\u001b[0m\n",
            "\u001b[0;31mTypeError\u001b[0m: 'tuple' object does not support item assignment"
          ]
        }
      ]
    },
    {
      "cell_type": "markdown",
      "source": [
        "#4. Discuss the diffrent types of operators in python and provide examples of  how they are used"
      ],
      "metadata": {
        "id": "yvyPfKRisOUz"
      }
    },
    {
      "cell_type": "markdown",
      "source": [
        "###There are several types of operators used in python such Arithmetic operators, comparison operators, Logical operators, Bitwise Operators, assignment operators, Identity operators, member operator\n",
        "###Following are examples of each operator\n"
      ],
      "metadata": {
        "id": "4XIwTcWwlro2"
      }
    },
    {
      "cell_type": "markdown",
      "source": [
        "## Arithmetic operator"
      ],
      "metadata": {
        "id": "e7CNS7CSmo8J"
      }
    },
    {
      "cell_type": "code",
      "source": [
        "a = 10\n",
        "b = 3\n",
        "print(a + b)   # addition\n",
        "print(a - b)   # subtract\n",
        "print(a * b)   # multiply\n",
        "print(a / b)   # division\n",
        "print(a // b)  # floor division\n",
        "print(a % b)   # remainder\n",
        "print(a ** b)  # exponential"
      ],
      "metadata": {
        "colab": {
          "base_uri": "https://localhost:8080/"
        },
        "id": "M6TIwBipqkpr",
        "outputId": "b0f02741-ca0d-46dd-b19b-d2ac6b90cc2c"
      },
      "execution_count": null,
      "outputs": [
        {
          "output_type": "stream",
          "name": "stdout",
          "text": [
            "13\n",
            "7\n",
            "30\n",
            "3.3333333333333335\n",
            "3\n",
            "1\n",
            "1000\n"
          ]
        }
      ]
    },
    {
      "cell_type": "markdown",
      "source": [
        "## Comparison operator"
      ],
      "metadata": {
        "id": "wZxSocWbnDyt"
      }
    },
    {
      "cell_type": "code",
      "source": [
        "x = 5\n",
        "y = 3\n",
        "print(x == y)\n",
        "print(x != y)\n",
        "print(x > y)\n",
        "print(x < y)\n",
        "print(x >= y)\n",
        "print(x <= y)"
      ],
      "metadata": {
        "colab": {
          "base_uri": "https://localhost:8080/"
        },
        "id": "0OUeFAqBnBdi",
        "outputId": "7ac4472f-d51e-4725-89b7-ffdf4aa906b3"
      },
      "execution_count": null,
      "outputs": [
        {
          "output_type": "stream",
          "name": "stdout",
          "text": [
            "False\n",
            "True\n",
            "True\n",
            "False\n",
            "True\n",
            "False\n"
          ]
        }
      ]
    },
    {
      "cell_type": "markdown",
      "source": [
        "##Logical operator"
      ],
      "metadata": {
        "id": "wY5tMoZinTc6"
      }
    },
    {
      "cell_type": "code",
      "source": [
        "a = True\n",
        "b = False\n",
        "print(a and b)\n",
        "print(a or b)\n",
        "print(not a)"
      ],
      "metadata": {
        "colab": {
          "base_uri": "https://localhost:8080/"
        },
        "id": "a8Op7aVmnMfY",
        "outputId": "4d634bf1-fae5-456e-a58e-81b78265cea4"
      },
      "execution_count": null,
      "outputs": [
        {
          "output_type": "stream",
          "name": "stdout",
          "text": [
            "False\n",
            "True\n",
            "False\n"
          ]
        }
      ]
    },
    {
      "cell_type": "markdown",
      "source": [
        "##Bitwise Operators"
      ],
      "metadata": {
        "id": "bHkU_eDxnic_"
      }
    },
    {
      "cell_type": "code",
      "source": [
        "a = 5\n",
        "b = 3\n",
        "print(a & b)\n",
        "print(a | b)\n",
        "print(a ^ b)\n",
        "print(a << 1)\n",
        "print(a >> 1)"
      ],
      "metadata": {
        "colab": {
          "base_uri": "https://localhost:8080/"
        },
        "id": "4xh42LcQng6D",
        "outputId": "04c7c891-66c3-4aab-c92a-47dbb4db874c"
      },
      "execution_count": null,
      "outputs": [
        {
          "output_type": "stream",
          "name": "stdout",
          "text": [
            "1\n",
            "7\n",
            "6\n",
            "10\n",
            "2\n"
          ]
        }
      ]
    },
    {
      "cell_type": "markdown",
      "source": [
        "##Assignment Opertors"
      ],
      "metadata": {
        "id": "eooO-7D9nv7J"
      }
    },
    {
      "cell_type": "code",
      "source": [
        "x = 5\n",
        "x += 3  # x = x + 3\n",
        "print(x)\n",
        "# there are various other replacing + sign wiht arithmetic operator or bitwise operator"
      ],
      "metadata": {
        "colab": {
          "base_uri": "https://localhost:8080/"
        },
        "id": "mDcWJ-M8nsxa",
        "outputId": "d533d95e-26bd-434d-9123-dcae7d9fd495"
      },
      "execution_count": null,
      "outputs": [
        {
          "output_type": "stream",
          "name": "stdout",
          "text": [
            "8\n"
          ]
        }
      ]
    },
    {
      "cell_type": "markdown",
      "source": [
        "##Identity Operators"
      ],
      "metadata": {
        "id": "V0dw0hN_oNvH"
      }
    },
    {
      "cell_type": "code",
      "source": [
        "a = [1, 2, 3]\n",
        "b = a\n",
        "c = a[:]\n",
        "print(a is b)      # Output: True (same memory location)\n",
        "print(a is c)      # Output: False (different memory locations)"
      ],
      "metadata": {
        "colab": {
          "base_uri": "https://localhost:8080/"
        },
        "id": "LVFMJT1Fn_sv",
        "outputId": "b08edfd0-977c-4b33-9f65-f30a225687bb"
      },
      "execution_count": null,
      "outputs": [
        {
          "output_type": "stream",
          "name": "stdout",
          "text": [
            "True\n",
            "False\n"
          ]
        }
      ]
    },
    {
      "cell_type": "markdown",
      "source": [
        "##Membership Operators"
      ],
      "metadata": {
        "id": "wtcrkuDloxwJ"
      }
    },
    {
      "cell_type": "code",
      "source": [
        "x = [1, 2, 3]\n",
        "print(2 in x)\n",
        "print(4 not in x)"
      ],
      "metadata": {
        "colab": {
          "base_uri": "https://localhost:8080/"
        },
        "id": "8bthLcW6ohX9",
        "outputId": "8e4cd7d3-0569-44ee-b55b-71702ca397ab"
      },
      "execution_count": null,
      "outputs": [
        {
          "output_type": "stream",
          "name": "stdout",
          "text": [
            "True\n",
            "True\n"
          ]
        }
      ]
    },
    {
      "cell_type": "markdown",
      "source": [
        "#5. Explain the concept of type casting in python with examples"
      ],
      "metadata": {
        "id": "u4EcTS1rpkfC"
      }
    },
    {
      "cell_type": "markdown",
      "source": [
        "### Type casting in python refers to process of converting a variable from one data type to another. It is helpful when you have data stored in immutable objects like tuple or string etc\n",
        "### There are two types of type casting\n",
        "\n",
        "###-   Implicit type casting\n",
        "###-  Explicit type casting\n",
        "\n",
        "### Follow through the given examples for better understanding\n",
        "\n"
      ],
      "metadata": {
        "id": "oXxxqPR7qRRV"
      }
    },
    {
      "cell_type": "markdown",
      "source": [
        "## Implicit type casting - python automatically converts one data type to another"
      ],
      "metadata": {
        "id": "yvdP-LqGr7e0"
      }
    },
    {
      "cell_type": "code",
      "source": [
        "# Integer and float in the same expression\n",
        "a = 5        # Integer\n",
        "b = 2.5      # Float\n",
        "\n",
        "\n",
        "result = a + b\n",
        "\n",
        "print(result)\n",
        "print(type(result))\n",
        "# Python will automatically convert a to float and the output will be in float this is called implicit type casting"
      ],
      "metadata": {
        "colab": {
          "base_uri": "https://localhost:8080/"
        },
        "id": "msP9FIWXoi--",
        "outputId": "d7594f84-679f-4078-b352-eb642cad3008"
      },
      "execution_count": null,
      "outputs": [
        {
          "output_type": "stream",
          "name": "stdout",
          "text": [
            "7.5\n",
            "<class 'float'>\n"
          ]
        }
      ]
    },
    {
      "cell_type": "markdown",
      "source": [],
      "metadata": {
        "id": "zjW8Ljcyr5Ns"
      }
    },
    {
      "cell_type": "markdown",
      "source": [
        "## Explicit type casting - In this type casting user will have to convert data type of object manually using predifined function as shown in example"
      ],
      "metadata": {
        "id": "M0U9qypXsKWs"
      }
    },
    {
      "cell_type": "code",
      "source": [
        "a = 3\n",
        "b  = \"4\"\n",
        "c = a+int(b) # here we used int function to convert a string to integer. this is one simple example and we can do this with tuple, float and any other datatype.\n",
        "print (c)\n",
        "# as you can see the output returns sum which would otherwise will be an error without type conversion"
      ],
      "metadata": {
        "colab": {
          "base_uri": "https://localhost:8080/"
        },
        "id": "mkH8bb2wr4Ic",
        "outputId": "8bdd77f2-2581-4aed-d5c0-c646c265fbb5"
      },
      "execution_count": null,
      "outputs": [
        {
          "output_type": "stream",
          "name": "stdout",
          "text": [
            "7\n"
          ]
        }
      ]
    },
    {
      "cell_type": "markdown",
      "source": [
        "#6. How do conditional statements work in python? Illustrate with examples"
      ],
      "metadata": {
        "id": "tgyF40e2ukkW"
      }
    },
    {
      "cell_type": "markdown",
      "source": [
        "###Conditional statements in Python help to execute different blocks of code depending on whether a given condition is True or False.\n",
        "\n",
        "###Types of Conditional Statements in Python\n",
        "###1 if Statement\n",
        "###2 if-else Statement\n",
        "###3 if-elif-else Statement\n",
        "###4 Nested if Statement\n",
        "###if checks a condition and executes a block of code if the condition is True.\n",
        "###if-else adds an alternative block if the condition is False.\n",
        "###if-elif-else handles multiple conditions in sequence, executing only the first True block.\n",
        "###Nested if statements allow hierarchical checking of conditions."
      ],
      "metadata": {
        "id": "e1eabvtd64HJ"
      }
    },
    {
      "cell_type": "markdown",
      "source": [
        "##if Statement\n"
      ],
      "metadata": {
        "id": "Sf411HTe7igA"
      }
    },
    {
      "cell_type": "code",
      "source": [
        "x = 10\n",
        "\n",
        "if x > 5:\n",
        "    print(\"x is greater than 5\")\n"
      ],
      "metadata": {
        "id": "KIglU6_0swVI",
        "colab": {
          "base_uri": "https://localhost:8080/"
        },
        "outputId": "df7b465e-ebec-4409-e68e-63f1ab9f774c"
      },
      "execution_count": null,
      "outputs": [
        {
          "output_type": "stream",
          "name": "stdout",
          "text": [
            "x is greater than 5\n"
          ]
        }
      ]
    },
    {
      "cell_type": "markdown",
      "source": [
        "##if-else Statement"
      ],
      "metadata": {
        "id": "GW_XV4qgvPVQ"
      }
    },
    {
      "cell_type": "code",
      "source": [
        "y = 3\n",
        "\n",
        "if y > 5:\n",
        "    print(\"y is greater than 5\")\n",
        "else:\n",
        "    print(\"y is not greater than 5\")  # This block will execute because the condition is False\n"
      ],
      "metadata": {
        "colab": {
          "base_uri": "https://localhost:8080/"
        },
        "id": "3U-uQHmh7v9_",
        "outputId": "6b8aecb5-3210-4921-d609-08d259172120"
      },
      "execution_count": null,
      "outputs": [
        {
          "output_type": "stream",
          "name": "stdout",
          "text": [
            "y is not greater than 5\n"
          ]
        }
      ]
    },
    {
      "cell_type": "markdown",
      "source": [
        "##if-elif-else Statement"
      ],
      "metadata": {
        "id": "OV-4UuNn74Ob"
      }
    },
    {
      "cell_type": "code",
      "source": [
        "z = 15\n",
        "\n",
        "if z < 10:\n",
        "    print(\"z is less than 10\")\n",
        "elif z == 10:\n",
        "    print(\"z is equal to 10\")\n",
        "elif z < 20:\n",
        "    print(\"z is less than 20 but greater than 10\")  # This block will execute\n",
        "else:\n",
        "    print(\"z is 20 or greater\")"
      ],
      "metadata": {
        "colab": {
          "base_uri": "https://localhost:8080/"
        },
        "id": "jUHbdj7t72Be",
        "outputId": "1d4c016d-a0f7-4d72-c522-1d59a6383a48"
      },
      "execution_count": null,
      "outputs": [
        {
          "output_type": "stream",
          "name": "stdout",
          "text": [
            "z is less than 20 but greater than 10\n"
          ]
        }
      ]
    },
    {
      "cell_type": "markdown",
      "source": [
        "##Nested if Statement"
      ],
      "metadata": {
        "id": "23vKedmQ8BtE"
      }
    },
    {
      "cell_type": "code",
      "source": [
        "a = 25\n",
        "\n",
        "if a > 10:\n",
        "    print(\"a is greater than 10\")  # This block will execute\n",
        "    if a > 20:\n",
        "        print(\"a is also greater than 20\")  # This block will execute because both conditions are True\n",
        "    else:\n",
        "        print(\"a is 10-20\")\n",
        "else:\n",
        "    print(\"a is 10 or less\")"
      ],
      "metadata": {
        "colab": {
          "base_uri": "https://localhost:8080/"
        },
        "id": "oLcSLWNs8FvV",
        "outputId": "5c720c83-5b35-436c-dc65-2f5e00fdaef0"
      },
      "execution_count": null,
      "outputs": [
        {
          "output_type": "stream",
          "name": "stdout",
          "text": [
            "a is greater than 10\n",
            "a is also greater than 20\n"
          ]
        }
      ]
    },
    {
      "cell_type": "markdown",
      "source": [
        "#7. Describe the diffrent types of loops in python and their use cases with examples"
      ],
      "metadata": {
        "id": "598cl__U8iF5"
      }
    },
    {
      "cell_type": "markdown",
      "source": [
        "### Python provide to main types of loops to executea block of code multiple times -  For loop and while loop\n",
        "### For loop is used to iterate over a element one by one such as numbers in  lists. it is used when you need to perform iteration over each item in a collection and you know the exact number of iterations in advance\n"
      ],
      "metadata": {
        "id": "6QMv9FcOFULv"
      }
    },
    {
      "cell_type": "code",
      "source": [
        "fruits = [\"apple\", \"banana\", \"cherry\"] # iteration in list\n",
        "\n",
        "for fruit in fruits:\n",
        "    print(fruit)\n"
      ],
      "metadata": {
        "colab": {
          "base_uri": "https://localhost:8080/"
        },
        "id": "PU-ZXHRBGWg1",
        "outputId": "96f3b06f-3adc-413c-fbe8-40d696c331c6"
      },
      "execution_count": null,
      "outputs": [
        {
          "output_type": "stream",
          "name": "stdout",
          "text": [
            "apple\n",
            "banana\n",
            "cherry\n"
          ]
        }
      ]
    },
    {
      "cell_type": "code",
      "source": [
        "text = \"Python\" # iteration in string\n",
        "\n",
        "for char in text:\n",
        "    print(char)\n",
        "\n",
        "\n",
        "for i in range(5): #iteration in number\n",
        "    print(i)\n"
      ],
      "metadata": {
        "colab": {
          "base_uri": "https://localhost:8080/"
        },
        "id": "BRknl_pJGp2M",
        "outputId": "b7c3ed6c-f5e4-4b49-8b6c-5f9807caa141"
      },
      "execution_count": null,
      "outputs": [
        {
          "output_type": "stream",
          "name": "stdout",
          "text": [
            "P\n",
            "y\n",
            "t\n",
            "h\n",
            "o\n",
            "n\n",
            "0\n",
            "1\n",
            "2\n",
            "3\n",
            "4\n"
          ]
        }
      ]
    },
    {
      "cell_type": "markdown",
      "source": [],
      "metadata": {
        "id": "1v1qOJ3R7sNu"
      }
    },
    {
      "cell_type": "markdown",
      "source": [
        "##While Loop"
      ],
      "metadata": {
        "id": "fZ-Hf5bSG2O6"
      }
    },
    {
      "cell_type": "markdown",
      "source": [
        "###while loop continues to iterate over a block of code until a condition is True or False. it is used when you want the code too run till a condition is met and you don't know no. of iteartions in advance\n"
      ],
      "metadata": {
        "id": "aatQZh5wG9Tu"
      }
    },
    {
      "cell_type": "code",
      "source": [
        "count = 0\n",
        "\n",
        "while count < 5:\n",
        "    print(count)\n",
        "    count += 1\n"
      ],
      "metadata": {
        "colab": {
          "base_uri": "https://localhost:8080/"
        },
        "id": "XFm_TuyKG50N",
        "outputId": "0b65e5e1-7402-4c64-80ab-6266461144c1"
      },
      "execution_count": null,
      "outputs": [
        {
          "output_type": "stream",
          "name": "stdout",
          "text": [
            "0\n",
            "1\n",
            "2\n",
            "3\n",
            "4\n"
          ]
        }
      ]
    },
    {
      "cell_type": "code",
      "source": [
        "# Calculate the sum of numbers from 1 to n\n",
        "n = 5\n",
        "sum = 0\n",
        "i = 1\n",
        "\n",
        "while i <= n:\n",
        "    sum += i\n",
        "    i += 1\n",
        "\n",
        "print(\"Sum:\", sum)\n"
      ],
      "metadata": {
        "colab": {
          "base_uri": "https://localhost:8080/"
        },
        "id": "HkuwsFTeIM_z",
        "outputId": "765723f8-745a-4b09-de7b-4c3a44d9830f"
      },
      "execution_count": null,
      "outputs": [
        {
          "output_type": "stream",
          "name": "stdout",
          "text": [
            "Sum: 15\n"
          ]
        }
      ]
    },
    {
      "cell_type": "code",
      "source": [],
      "metadata": {
        "id": "T2JvfCAbIVBV"
      },
      "execution_count": null,
      "outputs": []
    }
  ]
}